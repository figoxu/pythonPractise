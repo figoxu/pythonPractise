{
 "cells": [
  {
   "cell_type": "code",
   "execution_count": 34,
   "metadata": {},
   "outputs": [
    {
     "name": "stderr",
     "output_type": "stream",
     "text": [
      "/Users/xujianhui/Library/Python/3.6/lib/python/site-packages/ipykernel_launcher.py:3: ParserWarning: Falling back to the 'python' engine because the 'c' engine does not support regex separators (separators > 1 char and different from '\\s+' are interpreted as regex); you can avoid this warning by specifying engine='python'.\n",
      "  This is separate from the ipykernel package so we can avoid doing imports until\n"
     ]
    },
    {
     "name": "stdout",
     "output_type": "stream",
     "text": [
      "(55485, 13)\n"
     ]
    },
    {
     "data": {
      "text/html": [
       "<div>\n",
       "<style scoped>\n",
       "    .dataframe tbody tr th:only-of-type {\n",
       "        vertical-align: middle;\n",
       "    }\n",
       "\n",
       "    .dataframe tbody tr th {\n",
       "        vertical-align: top;\n",
       "    }\n",
       "\n",
       "    .dataframe thead th {\n",
       "        text-align: right;\n",
       "    }\n",
       "</style>\n",
       "<table border=\"1\" class=\"dataframe\">\n",
       "  <thead>\n",
       "    <tr style=\"text-align: right;\">\n",
       "      <th></th>\n",
       "      <th>id</th>\n",
       "      <th>name</th>\n",
       "      <th>description</th>\n",
       "      <th>highQuality</th>\n",
       "      <th>commentCount</th>\n",
       "      <th>playCount</th>\n",
       "      <th>shareCount</th>\n",
       "      <th>subscribedCount</th>\n",
       "      <th>trackCount</th>\n",
       "      <th>updateTime</th>\n",
       "      <th>userId</th>\n",
       "      <th>tags</th>\n",
       "      <th>musiclist</th>\n",
       "    </tr>\n",
       "  </thead>\n",
       "  <tbody>\n",
       "    <tr>\n",
       "      <th>0</th>\n",
       "      <td>423245641</td>\n",
       "      <td>The Best Crew</td>\n",
       "      <td>Let's enjoy the sunshine afternoon with wonder...</td>\n",
       "      <td>False</td>\n",
       "      <td>621</td>\n",
       "      <td>705665</td>\n",
       "      <td>214</td>\n",
       "      <td>11355</td>\n",
       "      <td>30</td>\n",
       "      <td>1469089663541</td>\n",
       "      <td>42689902</td>\n",
       "      <td>['欧美', '电子', '另类/独立']</td>\n",
       "      <td>414691355,410802620,419549837,419485281,412016...</td>\n",
       "    </tr>\n",
       "    <tr>\n",
       "      <th>1</th>\n",
       "      <td>111450065</td>\n",
       "      <td>Pastel reflections 温柔再现</td>\n",
       "      <td>现在是一年中最美好的时节，世界上很多地方都不冷不热，有湛蓝的天空和清冽的空气，正是出游的好时...</td>\n",
       "      <td>False</td>\n",
       "      <td>227</td>\n",
       "      <td>687070</td>\n",
       "      <td>149</td>\n",
       "      <td>10882</td>\n",
       "      <td>120</td>\n",
       "      <td>1460164523907</td>\n",
       "      <td>39256799</td>\n",
       "      <td>['旅行', '钢琴', '安静']</td>\n",
       "      <td>29738501,33544451,82159,27902104,31134629,2543...</td>\n",
       "    </tr>\n",
       "  </tbody>\n",
       "</table>\n",
       "</div>"
      ],
      "text/plain": [
       "          id                     name  \\\n",
       "0  423245641            The Best Crew   \n",
       "1  111450065  Pastel reflections 温柔再现   \n",
       "\n",
       "                                         description  highQuality  \\\n",
       "0  Let's enjoy the sunshine afternoon with wonder...        False   \n",
       "1  现在是一年中最美好的时节，世界上很多地方都不冷不热，有湛蓝的天空和清冽的空气，正是出游的好时...        False   \n",
       "\n",
       "   commentCount  playCount  shareCount  subscribedCount  trackCount  \\\n",
       "0           621     705665         214            11355          30   \n",
       "1           227     687070         149            10882         120   \n",
       "\n",
       "      updateTime    userId                   tags  \\\n",
       "0  1469089663541  42689902  ['欧美', '电子', '另类/独立']   \n",
       "1  1460164523907  39256799     ['旅行', '钢琴', '安静']   \n",
       "\n",
       "                                           musiclist  \n",
       "0  414691355,410802620,419549837,419485281,412016...  \n",
       "1  29738501,33544451,82159,27902104,31134629,2543...  "
      ]
     },
     "execution_count": 34,
     "metadata": {},
     "output_type": "execute_result"
    }
   ],
   "source": [
    "import pandas as pd\n",
    "filepath = 'PycharmProjects/pythonPractise/jupyter/recommend/163music/playlist.txt'\n",
    "dfplaylist = pd.read_csv(filepath, encoding = 'utf8', sep = \":::\")\n",
    "\n",
    "print(dfplaylist.shape)\n",
    "dfplaylist.head(2)"
   ]
  },
  {
   "cell_type": "code",
   "execution_count": 35,
   "metadata": {},
   "outputs": [
    {
     "data": {
      "text/plain": [
       "(55373, 13)"
      ]
     },
     "execution_count": 35,
     "metadata": {},
     "output_type": "execute_result"
    }
   ],
   "source": [
    "# 去除无意义的列表，同时确保musiclist均为有效字符串\n",
    "dfplaylist = dfplaylist[dfplaylist.trackCount >1]\n",
    "dfplaylist.shape"
   ]
  },
  {
   "cell_type": "code",
   "execution_count": 36,
   "metadata": {},
   "outputs": [
    {
     "data": {
      "text/plain": [
       "(55371, 13)"
      ]
     },
     "execution_count": 36,
     "metadata": {},
     "output_type": "execute_result"
    }
   ],
   "source": [
    "# 去除重复ID的记录\n",
    "dfplaylist.drop_duplicates(subset = 'id', inplace = True)\n",
    "dfplaylist['id'] = dfplaylist.id.astype('str')\n",
    "dfplaylist['userId'] = dfplaylist.userId.astype('str')\n",
    "dfplaylist.shape"
   ]
  },
  {
   "cell_type": "code",
   "execution_count": 37,
   "metadata": {},
   "outputs": [
    {
     "data": {
      "text/html": [
       "<div>\n",
       "<style scoped>\n",
       "    .dataframe tbody tr th:only-of-type {\n",
       "        vertical-align: middle;\n",
       "    }\n",
       "\n",
       "    .dataframe tbody tr th {\n",
       "        vertical-align: top;\n",
       "    }\n",
       "\n",
       "    .dataframe thead th {\n",
       "        text-align: right;\n",
       "    }\n",
       "</style>\n",
       "<table border=\"1\" class=\"dataframe\">\n",
       "  <thead>\n",
       "    <tr style=\"text-align: right;\">\n",
       "      <th></th>\n",
       "      <th>id</th>\n",
       "      <th>name</th>\n",
       "      <th>description</th>\n",
       "      <th>highQuality</th>\n",
       "      <th>commentCount</th>\n",
       "      <th>playCount</th>\n",
       "      <th>shareCount</th>\n",
       "      <th>subscribedCount</th>\n",
       "      <th>trackCount</th>\n",
       "      <th>updateTime</th>\n",
       "      <th>userId</th>\n",
       "      <th>tags</th>\n",
       "      <th>musiclist</th>\n",
       "    </tr>\n",
       "  </thead>\n",
       "  <tbody>\n",
       "    <tr>\n",
       "      <th>0</th>\n",
       "      <td>423245641</td>\n",
       "      <td>The Best Crew</td>\n",
       "      <td>Let's enjoy the sunshine afternoon with wonder...</td>\n",
       "      <td>False</td>\n",
       "      <td>621</td>\n",
       "      <td>705665</td>\n",
       "      <td>214</td>\n",
       "      <td>11355</td>\n",
       "      <td>30</td>\n",
       "      <td>1469089663541</td>\n",
       "      <td>42689902</td>\n",
       "      <td>['欧美', '电子', '另类/独立']</td>\n",
       "      <td>[414691355, 410802620, 419549837, 419485281, 4...</td>\n",
       "    </tr>\n",
       "    <tr>\n",
       "      <th>1</th>\n",
       "      <td>111450065</td>\n",
       "      <td>Pastel reflections 温柔再现</td>\n",
       "      <td>现在是一年中最美好的时节，世界上很多地方都不冷不热，有湛蓝的天空和清冽的空气，正是出游的好时...</td>\n",
       "      <td>False</td>\n",
       "      <td>227</td>\n",
       "      <td>687070</td>\n",
       "      <td>149</td>\n",
       "      <td>10882</td>\n",
       "      <td>120</td>\n",
       "      <td>1460164523907</td>\n",
       "      <td>39256799</td>\n",
       "      <td>['旅行', '钢琴', '安静']</td>\n",
       "      <td>[29738501, 33544451, 82159, 27902104, 31134629...</td>\n",
       "    </tr>\n",
       "  </tbody>\n",
       "</table>\n",
       "</div>"
      ],
      "text/plain": [
       "          id                     name  \\\n",
       "0  423245641            The Best Crew   \n",
       "1  111450065  Pastel reflections 温柔再现   \n",
       "\n",
       "                                         description  highQuality  \\\n",
       "0  Let's enjoy the sunshine afternoon with wonder...        False   \n",
       "1  现在是一年中最美好的时节，世界上很多地方都不冷不热，有湛蓝的天空和清冽的空气，正是出游的好时...        False   \n",
       "\n",
       "   commentCount  playCount  shareCount  subscribedCount  trackCount  \\\n",
       "0           621     705665         214            11355          30   \n",
       "1           227     687070         149            10882         120   \n",
       "\n",
       "      updateTime    userId                   tags  \\\n",
       "0  1469089663541  42689902  ['欧美', '电子', '另类/独立']   \n",
       "1  1460164523907  39256799     ['旅行', '钢琴', '安静']   \n",
       "\n",
       "                                           musiclist  \n",
       "0  [414691355, 410802620, 419549837, 419485281, 4...  \n",
       "1  [29738501, 33544451, 82159, 27902104, 31134629...  "
      ]
     },
     "execution_count": 37,
     "metadata": {},
     "output_type": "execute_result"
    }
   ],
   "source": [
    "# 将音乐列表转换为list格式\n",
    "dfplaylist.musiclist = dfplaylist.musiclist.apply(lambda x: x.split(\",\"))\n",
    "dfplaylist.head(2)"
   ]
  },
  {
   "cell_type": "code",
   "execution_count": 38,
   "metadata": {},
   "outputs": [
    {
     "data": {
      "text/html": [
       "<div>\n",
       "<style scoped>\n",
       "    .dataframe tbody tr th:only-of-type {\n",
       "        vertical-align: middle;\n",
       "    }\n",
       "\n",
       "    .dataframe tbody tr th {\n",
       "        vertical-align: top;\n",
       "    }\n",
       "\n",
       "    .dataframe thead th {\n",
       "        text-align: right;\n",
       "    }\n",
       "</style>\n",
       "<table border=\"1\" class=\"dataframe\">\n",
       "  <thead>\n",
       "    <tr style=\"text-align: right;\">\n",
       "      <th></th>\n",
       "      <th>id</th>\n",
       "      <th>name</th>\n",
       "      <th>description</th>\n",
       "      <th>highQuality</th>\n",
       "      <th>commentCount</th>\n",
       "      <th>playCount</th>\n",
       "      <th>shareCount</th>\n",
       "      <th>subscribedCount</th>\n",
       "      <th>trackCount</th>\n",
       "      <th>updateTime</th>\n",
       "      <th>userId</th>\n",
       "      <th>tags</th>\n",
       "      <th>musiclist</th>\n",
       "    </tr>\n",
       "  </thead>\n",
       "  <tbody>\n",
       "    <tr>\n",
       "      <th>0</th>\n",
       "      <td>423245641</td>\n",
       "      <td>The Best Crew</td>\n",
       "      <td>Let's enjoy the sunshine afternoon with wonder...</td>\n",
       "      <td>False</td>\n",
       "      <td>621</td>\n",
       "      <td>705665</td>\n",
       "      <td>214</td>\n",
       "      <td>11355</td>\n",
       "      <td>30</td>\n",
       "      <td>1469089663541</td>\n",
       "      <td>42689902</td>\n",
       "      <td>[欧美, 电子, 另类/独立]</td>\n",
       "      <td>[414691355, 410802620, 419549837, 419485281, 4...</td>\n",
       "    </tr>\n",
       "    <tr>\n",
       "      <th>1</th>\n",
       "      <td>111450065</td>\n",
       "      <td>Pastel reflections 温柔再现</td>\n",
       "      <td>现在是一年中最美好的时节，世界上很多地方都不冷不热，有湛蓝的天空和清冽的空气，正是出游的好时...</td>\n",
       "      <td>False</td>\n",
       "      <td>227</td>\n",
       "      <td>687070</td>\n",
       "      <td>149</td>\n",
       "      <td>10882</td>\n",
       "      <td>120</td>\n",
       "      <td>1460164523907</td>\n",
       "      <td>39256799</td>\n",
       "      <td>[旅行, 钢琴, 安静]</td>\n",
       "      <td>[29738501, 33544451, 82159, 27902104, 31134629...</td>\n",
       "    </tr>\n",
       "  </tbody>\n",
       "</table>\n",
       "</div>"
      ],
      "text/plain": [
       "          id                     name  \\\n",
       "0  423245641            The Best Crew   \n",
       "1  111450065  Pastel reflections 温柔再现   \n",
       "\n",
       "                                         description  highQuality  \\\n",
       "0  Let's enjoy the sunshine afternoon with wonder...        False   \n",
       "1  现在是一年中最美好的时节，世界上很多地方都不冷不热，有湛蓝的天空和清冽的空气，正是出游的好时...        False   \n",
       "\n",
       "   commentCount  playCount  shareCount  subscribedCount  trackCount  \\\n",
       "0           621     705665         214            11355          30   \n",
       "1           227     687070         149            10882         120   \n",
       "\n",
       "      updateTime    userId             tags  \\\n",
       "0  1469089663541  42689902  [欧美, 电子, 另类/独立]   \n",
       "1  1460164523907  39256799     [旅行, 钢琴, 安静]   \n",
       "\n",
       "                                           musiclist  \n",
       "0  [414691355, 410802620, 419549837, 419485281, 4...  \n",
       "1  [29738501, 33544451, 82159, 27902104, 31134629...  "
      ]
     },
     "execution_count": 38,
     "metadata": {},
     "output_type": "execute_result"
    }
   ],
   "source": [
    "# 将tags字符串转换为list格式\n",
    "dfplaylist.tags = dfplaylist.tags.apply(lambda x: x[1:-1].replace(\"'\",\"\").split(\", \"))\n",
    "dfplaylist.head(2)"
   ]
  },
  {
   "cell_type": "code",
   "execution_count": null,
   "metadata": {},
   "outputs": [],
   "source": [
    ""
   ]
  }
 ],
 "metadata": {
  "kernelspec": {
   "display_name": "Python 3",
   "language": "python",
   "name": "python3"
  },
  "language_info": {
   "codemirror_mode": {
    "name": "ipython",
    "version": 3.0
   },
   "file_extension": ".py",
   "mimetype": "text/x-python",
   "name": "python",
   "nbconvert_exporter": "python",
   "pygments_lexer": "ipython3",
   "version": "3.6.3"
  }
 },
 "nbformat": 4,
 "nbformat_minor": 0
}